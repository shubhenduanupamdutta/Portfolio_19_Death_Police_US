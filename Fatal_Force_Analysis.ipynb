{
 "cells": [
  {
   "cell_type": "markdown",
   "metadata": {},
   "source": [
    "# Introduction\n"
   ]
  },
  {
   "cell_type": "markdown",
   "metadata": {},
   "source": [
    "Since Jan. 1, 2015, [The Washington Post](https://www.washingtonpost.com/) has been compiling a database of every fatal shooting in the US by a police officer in the line of duty. \n",
    "\n",
    "<center><img src=https://i.imgur.com/sX3K62b.png></center>\n",
    "\n",
    "While there are many challenges regarding data collection and reporting, The Washington Post has been tracking more than a dozen details about each killing. This includes the race, age and gender of the deceased, whether the person was armed, and whether the victim was experiencing a mental-health crisis. The Washington Post has gathered this supplemental information from law enforcement websites, local new reports, social media, and by monitoring independent databases such as \"Killed by police\" and \"Fatal Encounters\". The Post has also conducted additional reporting in many cases.\n",
    "\n",
    "There are 4 additional datasets: US census data on poverty rate, high school graduation rate, median household income, and racial demographics. [Source of census data](https://factfinder.census.gov/faces/nav/jsf/pages/community_facts.xhtml)."
   ]
  },
  {
   "cell_type": "markdown",
   "metadata": {},
   "source": [
    "# Importing Necessary Modules"
   ]
  },
  {
   "cell_type": "code",
   "execution_count": 1,
   "metadata": {},
   "outputs": [],
   "source": [
    "import numpy as np\n",
    "import pandas as pd\n",
    "import matplotlib.pyplot as plt\n",
    "import seaborn as sns\n",
    "import plotly.express as px\n",
    "from collections import Counter"
   ]
  },
  {
   "cell_type": "markdown",
   "metadata": {},
   "source": [
    "## Notebook Presentation"
   ]
  },
  {
   "cell_type": "code",
   "execution_count": 2,
   "metadata": {},
   "outputs": [],
   "source": [
    "pd.options.display.float_format = '{:,.2f}'.format"
   ]
  },
  {
   "cell_type": "markdown",
   "metadata": {},
   "source": [
    "## Load the Data"
   ]
  },
  {
   "cell_type": "code",
   "execution_count": 3,
   "metadata": {},
   "outputs": [],
   "source": [
    "df_hh_income = pd.read_csv(\n",
    "    'Median_Household_Income_2015.csv', encoding=\"windows-1252\")\n",
    "df_pct_poverty = pd.read_csv(\n",
    "    'Pct_People_Below_Poverty_Level.csv', encoding=\"windows-1252\")\n",
    "df_pct_completed_hs = pd.read_csv(\n",
    "    'Pct_Over_25_Completed_High_School.csv', encoding=\"windows-1252\")\n",
    "df_share_race_city = pd.read_csv(\n",
    "    'Share_of_Race_By_City.csv', encoding=\"windows-1252\")\n",
    "df_fatalities = pd.read_csv('Deaths_by_Police_US.csv', encoding=\"windows-1252\")"
   ]
  },
  {
   "cell_type": "markdown",
   "metadata": {},
   "source": [
    "# Preliminary Data Exploration\n",
    "\n",
    "* What is the shape of the DataFrames? \n",
    "* How many rows and columns do they have?\n",
    "* What are the column names?\n",
    "* Are there any NaN values or duplicates?"
   ]
  },
  {
   "cell_type": "code",
   "execution_count": 4,
   "metadata": {},
   "outputs": [
    {
     "name": "stdout",
     "output_type": "stream",
     "text": [
      "Shape of dataframes are:\n",
      "\n",
      "\n",
      "HouseHold Income DataFrame (df_hh_income) shape:\n",
      "(row, columns): (29322, 3)\n",
      "\n",
      "\n",
      "Poverty DataFrame (df_pct_poverty) shape:\n",
      "(row, columns): (29329, 3)\n",
      "\n",
      "\n",
      "High School Completion DataFrame (df_pct_completed_hs) shape:\n",
      "(row, columns): (29329, 3)\n",
      "\n",
      "\n",
      "Share of city by Race DateFrame (df_share_race_city):\n",
      "(row, columns): (29268, 7)\n",
      "\n",
      "\n",
      "Death by Police DataFrame (df_fatalities):\n",
      "(row, columns): (2535, 14)\n"
     ]
    }
   ],
   "source": [
    "print(f\"Shape of dataframes are:\")\n",
    "print(\n",
    "    f\"\\n\\nHouseHold Income DataFrame (df_hh_income) shape:\\n(row, columns): {df_hh_income.shape}\")\n",
    "print(\n",
    "    f\"\\n\\nPoverty DataFrame (df_pct_poverty) shape:\\n(row, columns): {df_pct_poverty.shape}\")\n",
    "print(\n",
    "    f\"\\n\\nHigh School Completion DataFrame (df_pct_completed_hs) shape:\\n(row, columns): {df_pct_completed_hs.shape}\")\n",
    "print(\n",
    "    f\"\\n\\nShare of city by Race DateFrame (df_share_race_city):\\n(row, columns): {df_share_race_city.shape}\")\n",
    "print(\n",
    "    f\"\\n\\nDeath by Police DataFrame (df_fatalities):\\n(row, columns): {df_fatalities.shape}\")"
   ]
  },
  {
   "cell_type": "code",
   "execution_count": 5,
   "metadata": {},
   "outputs": [
    {
     "name": "stdout",
     "output_type": "stream",
     "text": [
      "Column Names of DataFrames are:\n",
      "\n",
      "\n",
      "HouseHold Income DataFrame (df_hh_income) columns:\n",
      " Index(['Geographic Area', 'City', 'Median Income'], dtype='object')\n",
      "\n",
      "\n",
      "Poverty DataFrame (df_pct_poverty) columns:\n",
      " Index(['Geographic Area', 'City', 'poverty_rate'], dtype='object')\n",
      "\n",
      "\n",
      "High School Completion DataFrame (df_pct_completed_hs) columns:\n",
      " Index(['Geographic Area', 'City', 'percent_completed_hs'], dtype='object')\n",
      "\n",
      "\n",
      "Share of city by Race DataFrame (df_share_race_city):\n",
      " Index(['Geographic area', 'City', 'share_white', 'share_black',\n",
      "       'share_native_american', 'share_asian', 'share_hispanic'],\n",
      "      dtype='object')\n",
      "\n",
      "\n",
      "Death by Police DataFrame (df_fatalities):\n",
      " Index(['id', 'name', 'date', 'manner_of_death', 'armed', 'age', 'gender',\n",
      "       'race', 'city', 'state', 'signs_of_mental_illness', 'threat_level',\n",
      "       'flee', 'body_camera'],\n",
      "      dtype='object')\n"
     ]
    }
   ],
   "source": [
    "print(\"Column Names of DataFrames are:\")\n",
    "print(\n",
    "    f\"\\n\\nHouseHold Income DataFrame (df_hh_income) columns:\\n {df_hh_income.columns}\")\n",
    "print(\n",
    "    f\"\\n\\nPoverty DataFrame (df_pct_poverty) columns:\\n {df_pct_poverty.columns}\")\n",
    "print(\n",
    "    f\"\\n\\nHigh School Completion DataFrame (df_pct_completed_hs) columns:\\n {df_pct_completed_hs.columns}\")\n",
    "print(\n",
    "    f\"\\n\\nShare of city by Race DataFrame (df_share_race_city):\\n {df_share_race_city.columns}\")\n",
    "print(\n",
    "    f\"\\n\\nDeath by Police DataFrame (df_fatalities):\\n {df_fatalities.columns}\")"
   ]
  },
  {
   "cell_type": "code",
   "execution_count": 6,
   "metadata": {},
   "outputs": [
    {
     "name": "stdout",
     "output_type": "stream",
     "text": [
      "Calculating NaN values in each DataFrame:\n",
      "\n",
      "\n",
      "HouseHold Income DataFrame (df_hh_income) NaN values:\n",
      "Geographic Area     0\n",
      "City                0\n",
      "Median Income      51\n",
      "dtype: int64\n",
      "\n",
      "\n",
      "Poverty DataFrame (df_pct_poverty) NaN values:\n",
      "Geographic Area    0\n",
      "City               0\n",
      "poverty_rate       0\n",
      "dtype: int64\n",
      "\n",
      "\n",
      "High School Completion DataFrame (df_pct_completed_hs) NaN values:\n",
      "Geographic Area         0\n",
      "City                    0\n",
      "percent_completed_hs    0\n",
      "dtype: int64\n",
      "\n",
      "\n",
      "Share of City Race DataFrame (df_share_race_city): NanValues:\n",
      "Geographic area          0\n",
      "City                     0\n",
      "share_white              0\n",
      "share_black              0\n",
      "share_native_american    0\n",
      "share_asian              0\n",
      "share_hispanic           0\n",
      "dtype: int64\n",
      "\n",
      "\n",
      "Death by Police DataFrame (df_fatalities): NanValues:\n",
      "id                           0\n",
      "name                         0\n",
      "date                         0\n",
      "manner_of_death              0\n",
      "armed                        9\n",
      "age                         77\n",
      "gender                       0\n",
      "race                       195\n",
      "city                         0\n",
      "state                        0\n",
      "signs_of_mental_illness      0\n",
      "threat_level                 0\n",
      "flee                        65\n",
      "body_camera                  0\n",
      "dtype: int64\n"
     ]
    }
   ],
   "source": [
    "print(\"Calculating NaN values in each DataFrame:\")\n",
    "print(\n",
    "    f\"\\n\\nHouseHold Income DataFrame (df_hh_income) NaN values:\\n{df_hh_income.isna().sum()}\")\n",
    "print(\n",
    "    f\"\\n\\nPoverty DataFrame (df_pct_poverty) NaN values:\\n{df_pct_poverty.isna().sum()}\")\n",
    "print(\n",
    "    f\"\\n\\nHigh School Completion DataFrame (df_pct_completed_hs) NaN values:\\n{df_pct_completed_hs.isna().sum()}\")\n",
    "print(\n",
    "    f\"\\n\\nShare of City Race DataFrame (df_share_race_city): NanValues:\\n{df_share_race_city.isna().sum()}\")\n",
    "print(\n",
    "    f\"\\n\\nDeath by Police DataFrame (df_fatalities): NanValues:\\n{df_fatalities.isna().sum()}\")"
   ]
  },
  {
   "cell_type": "code",
   "execution_count": 7,
   "metadata": {},
   "outputs": [
    {
     "name": "stdout",
     "output_type": "stream",
     "text": [
      "Calculating Duplicate values in each DataFrame:\n",
      "\n",
      "\n",
      "HouseHold Income DataFrame (df_hh_income) Duplicate values:\n",
      "0\n",
      "\n",
      "\n",
      "Poverty DataFrame (df_pct_poverty) Duplicate values:\n",
      "0\n",
      "\n",
      "\n",
      "High School Completion DataFrame (df_pct_completed_hs) Duplicate values:\n",
      "0\n",
      "\n",
      "\n",
      "Share of City Race DataFrame(df_share_race_city) Duplicate values:\n",
      "0\n",
      "\n",
      "\n",
      "Death by Police DataFrame (df_fatalities) Duplicate values:\n",
      "0\n"
     ]
    }
   ],
   "source": [
    "print(\"Calculating Duplicate values in each DataFrame:\")\n",
    "print(\n",
    "    f\"\\n\\nHouseHold Income DataFrame (df_hh_income) Duplicate values:\\n{df_hh_income.duplicated().sum()}\")\n",
    "print(\n",
    "    f\"\\n\\nPoverty DataFrame (df_pct_poverty) Duplicate values:\\n{df_pct_poverty.duplicated().sum()}\")\n",
    "print(\n",
    "    f\"\\n\\nHigh School Completion DataFrame (df_pct_completed_hs) Duplicate values:\\n{df_pct_completed_hs.duplicated().sum()}\")\n",
    "print(\n",
    "    f\"\\n\\nShare of City Race DataFrame(df_share_race_city) Duplicate values:\\n{df_share_race_city.duplicated().sum()}\")\n",
    "print(\n",
    "    f\"\\n\\nDeath by Police DataFrame (df_fatalities) Duplicate values:\\n{df_fatalities.duplicated().sum()}\")"
   ]
  },
  {
   "cell_type": "markdown",
   "metadata": {},
   "source": [
    "## <b style=\"color: green\"> There are no duplicated values. </b>"
   ]
  },
  {
   "cell_type": "markdown",
   "metadata": {},
   "source": [
    "## <b style=\"color: orange\"> But there are NaN values many places, let's see what we can do about that </b>"
   ]
  },
  {
   "cell_type": "code",
   "execution_count": 11,
   "metadata": {},
   "outputs": [
    {
     "data": {
      "text/plain": [
       "Geographic Area    51\n",
       "City               51\n",
       "Median Income       0\n",
       "dtype: int64"
      ]
     },
     "execution_count": 11,
     "metadata": {},
     "output_type": "execute_result"
    }
   ],
   "source": [
    "# First house hold income\n",
    "df_hh_income[df_hh_income.isna().any(axis=1)].count()"
   ]
  },
  {
   "cell_type": "code",
   "execution_count": 12,
   "metadata": {},
   "outputs": [
    {
     "data": {
      "text/plain": [
       "Geographic Area    0\n",
       "City               0\n",
       "Median Income      0\n",
       "dtype: int64"
      ]
     },
     "execution_count": 12,
     "metadata": {},
     "output_type": "execute_result"
    }
   ],
   "source": [
    "# Here we can drop NaN values rows because they are the important columns, so we can't fill them with any values\n",
    "df_hh_income.dropna(inplace=True)\n",
    "df_hh_income.isna().sum()"
   ]
  },
  {
   "cell_type": "code",
   "execution_count": 15,
   "metadata": {},
   "outputs": [
    {
     "data": {
      "text/plain": [
       "id                           0\n",
       "name                         0\n",
       "date                         0\n",
       "manner_of_death              0\n",
       "armed                        9\n",
       "age                         77\n",
       "gender                       0\n",
       "race                       195\n",
       "city                         0\n",
       "state                        0\n",
       "signs_of_mental_illness      0\n",
       "threat_level                 0\n",
       "flee                        65\n",
       "body_camera                  0\n",
       "dtype: int64"
      ]
     },
     "execution_count": 15,
     "metadata": {},
     "output_type": "execute_result"
    }
   ],
   "source": [
    "df_fatalities.isna().sum()"
   ]
  },
  {
   "cell_type": "code",
   "execution_count": 14,
   "metadata": {},
   "outputs": [
    {
     "data": {
      "text/html": [
       "<div>\n",
       "<style scoped>\n",
       "    .dataframe tbody tr th:only-of-type {\n",
       "        vertical-align: middle;\n",
       "    }\n",
       "\n",
       "    .dataframe tbody tr th {\n",
       "        vertical-align: top;\n",
       "    }\n",
       "\n",
       "    .dataframe thead th {\n",
       "        text-align: right;\n",
       "    }\n",
       "</style>\n",
       "<table border=\"1\" class=\"dataframe\">\n",
       "  <thead>\n",
       "    <tr style=\"text-align: right;\">\n",
       "      <th></th>\n",
       "      <th>id</th>\n",
       "      <th>name</th>\n",
       "      <th>date</th>\n",
       "      <th>manner_of_death</th>\n",
       "      <th>armed</th>\n",
       "      <th>age</th>\n",
       "      <th>gender</th>\n",
       "      <th>race</th>\n",
       "      <th>city</th>\n",
       "      <th>state</th>\n",
       "      <th>signs_of_mental_illness</th>\n",
       "      <th>threat_level</th>\n",
       "      <th>flee</th>\n",
       "      <th>body_camera</th>\n",
       "    </tr>\n",
       "  </thead>\n",
       "  <tbody>\n",
       "    <tr>\n",
       "      <th>59</th>\n",
       "      <td>110</td>\n",
       "      <td>William Campbell</td>\n",
       "      <td>25/01/15</td>\n",
       "      <td>shot</td>\n",
       "      <td>gun</td>\n",
       "      <td>59.00</td>\n",
       "      <td>M</td>\n",
       "      <td>NaN</td>\n",
       "      <td>Winslow</td>\n",
       "      <td>NJ</td>\n",
       "      <td>False</td>\n",
       "      <td>attack</td>\n",
       "      <td>Not fleeing</td>\n",
       "      <td>False</td>\n",
       "    </tr>\n",
       "    <tr>\n",
       "      <th>124</th>\n",
       "      <td>584</td>\n",
       "      <td>Alejandro Salazar</td>\n",
       "      <td>20/02/15</td>\n",
       "      <td>shot</td>\n",
       "      <td>gun</td>\n",
       "      <td>NaN</td>\n",
       "      <td>M</td>\n",
       "      <td>H</td>\n",
       "      <td>Houston</td>\n",
       "      <td>TX</td>\n",
       "      <td>False</td>\n",
       "      <td>attack</td>\n",
       "      <td>Car</td>\n",
       "      <td>False</td>\n",
       "    </tr>\n",
       "    <tr>\n",
       "      <th>241</th>\n",
       "      <td>244</td>\n",
       "      <td>John Marcell Allen</td>\n",
       "      <td>30/03/15</td>\n",
       "      <td>shot</td>\n",
       "      <td>gun</td>\n",
       "      <td>54.00</td>\n",
       "      <td>M</td>\n",
       "      <td>NaN</td>\n",
       "      <td>Boulder City</td>\n",
       "      <td>NV</td>\n",
       "      <td>False</td>\n",
       "      <td>attack</td>\n",
       "      <td>Not fleeing</td>\n",
       "      <td>False</td>\n",
       "    </tr>\n",
       "    <tr>\n",
       "      <th>266</th>\n",
       "      <td>534</td>\n",
       "      <td>Mark Smith</td>\n",
       "      <td>09/04/15</td>\n",
       "      <td>shot and Tasered</td>\n",
       "      <td>vehicle</td>\n",
       "      <td>54.00</td>\n",
       "      <td>M</td>\n",
       "      <td>NaN</td>\n",
       "      <td>Kellyville</td>\n",
       "      <td>OK</td>\n",
       "      <td>False</td>\n",
       "      <td>attack</td>\n",
       "      <td>Other</td>\n",
       "      <td>False</td>\n",
       "    </tr>\n",
       "    <tr>\n",
       "      <th>340</th>\n",
       "      <td>433</td>\n",
       "      <td>Joseph Roy</td>\n",
       "      <td>07/05/15</td>\n",
       "      <td>shot</td>\n",
       "      <td>knife</td>\n",
       "      <td>72.00</td>\n",
       "      <td>M</td>\n",
       "      <td>NaN</td>\n",
       "      <td>Lawrenceville</td>\n",
       "      <td>GA</td>\n",
       "      <td>True</td>\n",
       "      <td>other</td>\n",
       "      <td>Not fleeing</td>\n",
       "      <td>False</td>\n",
       "    </tr>\n",
       "    <tr>\n",
       "      <th>...</th>\n",
       "      <td>...</td>\n",
       "      <td>...</td>\n",
       "      <td>...</td>\n",
       "      <td>...</td>\n",
       "      <td>...</td>\n",
       "      <td>...</td>\n",
       "      <td>...</td>\n",
       "      <td>...</td>\n",
       "      <td>...</td>\n",
       "      <td>...</td>\n",
       "      <td>...</td>\n",
       "      <td>...</td>\n",
       "      <td>...</td>\n",
       "      <td>...</td>\n",
       "    </tr>\n",
       "    <tr>\n",
       "      <th>2528</th>\n",
       "      <td>2812</td>\n",
       "      <td>Alejandro Alvarado</td>\n",
       "      <td>27/07/17</td>\n",
       "      <td>shot</td>\n",
       "      <td>knife</td>\n",
       "      <td>NaN</td>\n",
       "      <td>M</td>\n",
       "      <td>H</td>\n",
       "      <td>Chowchilla</td>\n",
       "      <td>CA</td>\n",
       "      <td>False</td>\n",
       "      <td>attack</td>\n",
       "      <td>Not fleeing</td>\n",
       "      <td>False</td>\n",
       "    </tr>\n",
       "    <tr>\n",
       "      <th>2529</th>\n",
       "      <td>2819</td>\n",
       "      <td>Brian J. Skinner</td>\n",
       "      <td>28/07/17</td>\n",
       "      <td>shot</td>\n",
       "      <td>knife</td>\n",
       "      <td>32.00</td>\n",
       "      <td>M</td>\n",
       "      <td>NaN</td>\n",
       "      <td>Glenville</td>\n",
       "      <td>NY</td>\n",
       "      <td>True</td>\n",
       "      <td>other</td>\n",
       "      <td>Not fleeing</td>\n",
       "      <td>False</td>\n",
       "    </tr>\n",
       "    <tr>\n",
       "      <th>2530</th>\n",
       "      <td>2822</td>\n",
       "      <td>Rodney E. Jacobs</td>\n",
       "      <td>28/07/17</td>\n",
       "      <td>shot</td>\n",
       "      <td>gun</td>\n",
       "      <td>31.00</td>\n",
       "      <td>M</td>\n",
       "      <td>NaN</td>\n",
       "      <td>Kansas City</td>\n",
       "      <td>MO</td>\n",
       "      <td>False</td>\n",
       "      <td>attack</td>\n",
       "      <td>Not fleeing</td>\n",
       "      <td>False</td>\n",
       "    </tr>\n",
       "    <tr>\n",
       "      <th>2531</th>\n",
       "      <td>2813</td>\n",
       "      <td>TK TK</td>\n",
       "      <td>28/07/17</td>\n",
       "      <td>shot</td>\n",
       "      <td>vehicle</td>\n",
       "      <td>NaN</td>\n",
       "      <td>M</td>\n",
       "      <td>NaN</td>\n",
       "      <td>Albuquerque</td>\n",
       "      <td>NM</td>\n",
       "      <td>False</td>\n",
       "      <td>attack</td>\n",
       "      <td>Car</td>\n",
       "      <td>False</td>\n",
       "    </tr>\n",
       "    <tr>\n",
       "      <th>2532</th>\n",
       "      <td>2818</td>\n",
       "      <td>Dennis W. Robinson</td>\n",
       "      <td>29/07/17</td>\n",
       "      <td>shot</td>\n",
       "      <td>gun</td>\n",
       "      <td>48.00</td>\n",
       "      <td>M</td>\n",
       "      <td>NaN</td>\n",
       "      <td>Melba</td>\n",
       "      <td>ID</td>\n",
       "      <td>False</td>\n",
       "      <td>attack</td>\n",
       "      <td>Car</td>\n",
       "      <td>False</td>\n",
       "    </tr>\n",
       "  </tbody>\n",
       "</table>\n",
       "<p>281 rows × 14 columns</p>\n",
       "</div>"
      ],
      "text/plain": [
       "        id                name      date   manner_of_death    armed   age  \\\n",
       "59     110    William Campbell  25/01/15              shot      gun 59.00   \n",
       "124    584   Alejandro Salazar  20/02/15              shot      gun   NaN   \n",
       "241    244  John Marcell Allen  30/03/15              shot      gun 54.00   \n",
       "266    534          Mark Smith  09/04/15  shot and Tasered  vehicle 54.00   \n",
       "340    433          Joseph Roy  07/05/15              shot    knife 72.00   \n",
       "...    ...                 ...       ...               ...      ...   ...   \n",
       "2528  2812  Alejandro Alvarado  27/07/17              shot    knife   NaN   \n",
       "2529  2819    Brian J. Skinner  28/07/17              shot    knife 32.00   \n",
       "2530  2822    Rodney E. Jacobs  28/07/17              shot      gun 31.00   \n",
       "2531  2813               TK TK  28/07/17              shot  vehicle   NaN   \n",
       "2532  2818  Dennis W. Robinson  29/07/17              shot      gun 48.00   \n",
       "\n",
       "     gender race           city state  signs_of_mental_illness threat_level  \\\n",
       "59        M  NaN        Winslow    NJ                    False       attack   \n",
       "124       M    H        Houston    TX                    False       attack   \n",
       "241       M  NaN   Boulder City    NV                    False       attack   \n",
       "266       M  NaN     Kellyville    OK                    False       attack   \n",
       "340       M  NaN  Lawrenceville    GA                     True        other   \n",
       "...     ...  ...            ...   ...                      ...          ...   \n",
       "2528      M    H     Chowchilla    CA                    False       attack   \n",
       "2529      M  NaN      Glenville    NY                     True        other   \n",
       "2530      M  NaN    Kansas City    MO                    False       attack   \n",
       "2531      M  NaN    Albuquerque    NM                    False       attack   \n",
       "2532      M  NaN          Melba    ID                    False       attack   \n",
       "\n",
       "             flee  body_camera  \n",
       "59    Not fleeing        False  \n",
       "124           Car        False  \n",
       "241   Not fleeing        False  \n",
       "266         Other        False  \n",
       "340   Not fleeing        False  \n",
       "...           ...          ...  \n",
       "2528  Not fleeing        False  \n",
       "2529  Not fleeing        False  \n",
       "2530  Not fleeing        False  \n",
       "2531          Car        False  \n",
       "2532          Car        False  \n",
       "\n",
       "[281 rows x 14 columns]"
      ]
     },
     "execution_count": 14,
     "metadata": {},
     "output_type": "execute_result"
    }
   ],
   "source": [
    "# Let's deal with df_fatalities\n",
    "df_fatalities[df_fatalities.isna().any(axis=1)]"
   ]
  },
  {
   "cell_type": "markdown",
   "metadata": {},
   "source": [
    "### I really don't think we can replace any NaN value with a default value, because it will affect the analysis\n",
    "### So, I will depending upon the analysis decide what to do with the NaN values\n"
   ]
  },
  {
   "cell_type": "markdown",
   "metadata": {},
   "source": []
  },
  {
   "cell_type": "code",
   "execution_count": null,
   "metadata": {},
   "outputs": [],
   "source": []
  }
 ],
 "metadata": {
  "kernelspec": {
   "display_name": ".venv",
   "language": "python",
   "name": "python3"
  },
  "language_info": {
   "codemirror_mode": {
    "name": "ipython",
    "version": 3
   },
   "file_extension": ".py",
   "mimetype": "text/x-python",
   "name": "python",
   "nbconvert_exporter": "python",
   "pygments_lexer": "ipython3",
   "version": "3.11.6"
  }
 },
 "nbformat": 4,
 "nbformat_minor": 2
}
